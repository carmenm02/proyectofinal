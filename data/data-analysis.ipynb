{
 "cells": [
  {
   "cell_type": "code",
   "execution_count": 75,
   "metadata": {},
   "outputs": [],
   "source": [
    "import pandas as pd\n",
    "import warnings\n",
    "from sklearn.model_selection import train_test_split\n",
    "from sklearn.metrics import accuracy_score, confusion_matrix\n",
    "from sklearn.linear_model import LogisticRegression\n",
    "import seaborn as sns\n",
    "import pylab as plt\n",
    "import statsmodels.api as sm\n",
    "import numpy as np\n",
    "warnings.filterwarnings('ignore')"
   ]
  },
  {
   "cell_type": "code",
   "execution_count": 76,
   "metadata": {},
   "outputs": [
    {
     "name": "stdout",
     "output_type": "stream",
     "text": [
      "           id        date  bedrooms bathrooms  sqft_living  sqft_lot floors  \\\n",
      "0  7129300520  13/10/2014         3         1         1180      5650      1   \n",
      "1  6414100192  09/12/2014         3      2,25         2570      7242      2   \n",
      "2  5631500400  25/02/2015         2         1          770     10000      1   \n",
      "3  2487200875  09/12/2014         4         3         1960      5000      1   \n",
      "4  1954400510  18/02/2015         3         2         1680      8080      1   \n",
      "\n",
      "   waterfront  view  condition  ...  sqft_above  sqft_basement  yr_built  \\\n",
      "0           0     0          3  ...        1180              0      1955   \n",
      "1           0     0          3  ...        2170            400      1951   \n",
      "2           0     0          3  ...         770              0      1933   \n",
      "3           0     0          5  ...        1050            910      1965   \n",
      "4           0     0          3  ...        1680              0      1987   \n",
      "\n",
      "   yr_renovated  zipcode      lat      long sqft_living15  sqft_lot15   price  \n",
      "0             0    98178  47,5112  -122,257          1340        5650  221900  \n",
      "1          1991    98125   47,721  -122,319          1690        7639  538000  \n",
      "2             0    98028  47,7379  -122,233          2720        8062  180000  \n",
      "3             0    98136  47,5208  -122,393          1360        5000  604000  \n",
      "4             0    98074  47,6168  -122,045          1800        7503  510000  \n",
      "\n",
      "[5 rows x 21 columns]\n"
     ]
    }
   ],
   "source": [
    "df = pd.read_csv('regression_data.csv', delimiter= ';')\n",
    "print(df.head())"
   ]
  },
  {
   "cell_type": "code",
   "execution_count": 77,
   "metadata": {},
   "outputs": [
    {
     "name": "stdout",
     "output_type": "stream",
     "text": [
      "COLUMNAS\n",
      "Index(['id', 'date', 'bedrooms', 'bathrooms', 'sqft_living', 'sqft_lot',\n",
      "       'floors', 'waterfront', 'view', 'condition', 'grade', 'sqft_above',\n",
      "       'sqft_basement', 'yr_built', 'yr_renovated', 'zipcode', 'lat', 'long',\n",
      "       'sqft_living15', 'sqft_lot15', 'price'],\n",
      "      dtype='object')\n",
      "\n",
      "\n",
      "INFO\n",
      "<class 'pandas.core.frame.DataFrame'>\n",
      "RangeIndex: 21597 entries, 0 to 21596\n",
      "Data columns (total 21 columns):\n",
      " #   Column         Non-Null Count  Dtype \n",
      "---  ------         --------------  ----- \n",
      " 0   id             21597 non-null  int64 \n",
      " 1   date           21597 non-null  object\n",
      " 2   bedrooms       21597 non-null  int64 \n",
      " 3   bathrooms      21597 non-null  object\n",
      " 4   sqft_living    21597 non-null  int64 \n",
      " 5   sqft_lot       21597 non-null  int64 \n",
      " 6   floors         21597 non-null  object\n",
      " 7   waterfront     21597 non-null  int64 \n",
      " 8   view           21597 non-null  int64 \n",
      " 9   condition      21597 non-null  int64 \n",
      " 10  grade          21597 non-null  int64 \n",
      " 11  sqft_above     21597 non-null  int64 \n",
      " 12  sqft_basement  21597 non-null  int64 \n",
      " 13  yr_built       21597 non-null  int64 \n",
      " 14  yr_renovated   21597 non-null  int64 \n",
      " 15  zipcode        21597 non-null  int64 \n",
      " 16  lat            21597 non-null  object\n",
      " 17  long           21597 non-null  object\n",
      " 18  sqft_living15  21597 non-null  int64 \n",
      " 19  sqft_lot15     21597 non-null  int64 \n",
      " 20  price          21597 non-null  int64 \n",
      "dtypes: int64(16), object(5)\n",
      "memory usage: 3.5+ MB\n"
     ]
    }
   ],
   "source": [
    "print('COLUMNAS')\n",
    "print(df.columns)\n",
    "print('\\n')\n",
    "print('INFO')\n",
    "df.info()"
   ]
  },
  {
   "cell_type": "code",
   "execution_count": 78,
   "metadata": {},
   "outputs": [],
   "source": [
    "df_copia = df.copy()"
   ]
  },
  {
   "cell_type": "code",
   "execution_count": 79,
   "metadata": {},
   "outputs": [],
   "source": [
    "df = df.drop(columns = ['date','lat','long','zipcode'],axis = 1 ) "
   ]
  },
  {
   "cell_type": "code",
   "execution_count": 80,
   "metadata": {},
   "outputs": [
    {
     "name": "stdout",
     "output_type": "stream",
     "text": [
      "           id  bedrooms bathrooms floors  waterfront  view  condition  grade  \\\n",
      "0  7129300520         3         1      1           0     0          3      7   \n",
      "1  6414100192         3      2,25      2           0     0          3      7   \n",
      "2  5631500400         2         1      1           0     0          3      6   \n",
      "3  2487200875         4         3      1           0     0          5      7   \n",
      "4  1954400510         3         2      1           0     0          3      8   \n",
      "\n",
      "   yr_built  yr_renovated  sqft_living15  sqft_lot15   price  \n",
      "0      1955             0           1340        5650  221900  \n",
      "1      1951          1991           1690        7639  538000  \n",
      "2      1933             0           2720        8062  180000  \n",
      "3      1965             0           1360        5000  604000  \n",
      "4      1987             0           1800        7503  510000  \n",
      "Index(['id', 'bedrooms', 'bathrooms', 'floors', 'waterfront', 'view',\n",
      "       'condition', 'grade', 'yr_built', 'yr_renovated', 'sqft_living15',\n",
      "       'sqft_lot15', 'price'],\n",
      "      dtype='object')\n"
     ]
    }
   ],
   "source": [
    "df = df.drop(columns = ['sqft_above','sqft_basement','sqft_living','sqft_lot'], axis = 1)\n",
    "print(df.head())\n",
    "print(df.columns)"
   ]
  },
  {
   "cell_type": "code",
   "execution_count": 81,
   "metadata": {},
   "outputs": [
    {
     "name": "stdout",
     "output_type": "stream",
     "text": [
      "0        1955\n",
      "1        1991\n",
      "2        1933\n",
      "3        1965\n",
      "4        1987\n",
      "         ... \n",
      "21592    2009\n",
      "21593    2014\n",
      "21594    2009\n",
      "21595    2004\n",
      "21596    2008\n",
      "Name: yr_built, Length: 21597, dtype: int64\n"
     ]
    }
   ],
   "source": [
    "for i in range(len(df['yr_renovated'])):\n",
    "    if df['yr_renovated'][i] != 0:\n",
    "        df['yr_built'][i] = df['yr_renovated'][i]\n",
    "df = df.drop(columns=['yr_renovated'],axis= 1)\n",
    "print(df['yr_built'])"
   ]
  },
  {
   "cell_type": "code",
   "execution_count": 82,
   "metadata": {},
   "outputs": [],
   "source": [
    "df.to_csv('csv_limpio.csv')"
   ]
  }
 ],
 "metadata": {
  "kernelspec": {
   "display_name": "Python 3.10.0 64-bit",
   "language": "python",
   "name": "python3"
  },
  "language_info": {
   "codemirror_mode": {
    "name": "ipython",
    "version": 3
   },
   "file_extension": ".py",
   "mimetype": "text/x-python",
   "name": "python",
   "nbconvert_exporter": "python",
   "pygments_lexer": "ipython3",
   "version": "3.10.0"
  },
  "orig_nbformat": 4,
  "vscode": {
   "interpreter": {
    "hash": "aee8b7b246df8f9039afb4144a1f6fd8d2ca17a180786b69acc140d282b71a49"
   }
  }
 },
 "nbformat": 4,
 "nbformat_minor": 2
}

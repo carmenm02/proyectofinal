{
 "cells": [
  {
   "cell_type": "code",
   "execution_count": 109,
   "metadata": {},
   "outputs": [],
   "source": [
    "import pandas as pd\n",
    "import warnings\n",
    "from sklearn.model_selection import train_test_split\n",
    "from sklearn.metrics import accuracy_score, confusion_matrix\n",
    "from sklearn.linear_model import LogisticRegression\n",
    "import seaborn as sns\n",
    "import pylab as plt\n",
    "import statsmodels.api as sm\n",
    "import numpy as np\n",
    "warnings.filterwarnings('ignore')"
   ]
  },
  {
   "cell_type": "code",
   "execution_count": 110,
   "metadata": {},
   "outputs": [
    {
     "name": "stdout",
     "output_type": "stream",
     "text": [
      "           id        date  bedrooms bathrooms  sqft_living  sqft_lot floors  \\\n",
      "0  7129300520  13/10/2014         3         1         1180      5650      1   \n",
      "1  6414100192  09/12/2014         3      2,25         2570      7242      2   \n",
      "2  5631500400  25/02/2015         2         1          770     10000      1   \n",
      "3  2487200875  09/12/2014         4         3         1960      5000      1   \n",
      "4  1954400510  18/02/2015         3         2         1680      8080      1   \n",
      "\n",
      "   waterfront  view  condition  ...  sqft_above  sqft_basement  yr_built  \\\n",
      "0           0     0          3  ...        1180              0      1955   \n",
      "1           0     0          3  ...        2170            400      1951   \n",
      "2           0     0          3  ...         770              0      1933   \n",
      "3           0     0          5  ...        1050            910      1965   \n",
      "4           0     0          3  ...        1680              0      1987   \n",
      "\n",
      "   yr_renovated  zipcode      lat      long sqft_living15  sqft_lot15   price  \n",
      "0             0    98178  47,5112  -122,257          1340        5650  221900  \n",
      "1          1991    98125   47,721  -122,319          1690        7639  538000  \n",
      "2             0    98028  47,7379  -122,233          2720        8062  180000  \n",
      "3             0    98136  47,5208  -122,393          1360        5000  604000  \n",
      "4             0    98074  47,6168  -122,045          1800        7503  510000  \n",
      "\n",
      "[5 rows x 21 columns]\n"
     ]
    }
   ],
   "source": [
    "df = pd.read_csv('regression_data.csv', delimiter= ';')\n",
    "print(df.head())"
   ]
  },
  {
   "cell_type": "code",
   "execution_count": 111,
   "metadata": {},
   "outputs": [
    {
     "name": "stdout",
     "output_type": "stream",
     "text": [
      "COLUMNAS\n",
      "Index(['id', 'date', 'bedrooms', 'bathrooms', 'sqft_living', 'sqft_lot',\n",
      "       'floors', 'waterfront', 'view', 'condition', 'grade', 'sqft_above',\n",
      "       'sqft_basement', 'yr_built', 'yr_renovated', 'zipcode', 'lat', 'long',\n",
      "       'sqft_living15', 'sqft_lot15', 'price'],\n",
      "      dtype='object')\n",
      "\n",
      "\n",
      "INFO\n",
      "<class 'pandas.core.frame.DataFrame'>\n",
      "RangeIndex: 21597 entries, 0 to 21596\n",
      "Data columns (total 21 columns):\n",
      " #   Column         Non-Null Count  Dtype \n",
      "---  ------         --------------  ----- \n",
      " 0   id             21597 non-null  int64 \n",
      " 1   date           21597 non-null  object\n",
      " 2   bedrooms       21597 non-null  int64 \n",
      " 3   bathrooms      21597 non-null  object\n",
      " 4   sqft_living    21597 non-null  int64 \n",
      " 5   sqft_lot       21597 non-null  int64 \n",
      " 6   floors         21597 non-null  object\n",
      " 7   waterfront     21597 non-null  int64 \n",
      " 8   view           21597 non-null  int64 \n",
      " 9   condition      21597 non-null  int64 \n",
      " 10  grade          21597 non-null  int64 \n",
      " 11  sqft_above     21597 non-null  int64 \n",
      " 12  sqft_basement  21597 non-null  int64 \n",
      " 13  yr_built       21597 non-null  int64 \n",
      " 14  yr_renovated   21597 non-null  int64 \n",
      " 15  zipcode        21597 non-null  int64 \n",
      " 16  lat            21597 non-null  object\n",
      " 17  long           21597 non-null  object\n",
      " 18  sqft_living15  21597 non-null  int64 \n",
      " 19  sqft_lot15     21597 non-null  int64 \n",
      " 20  price          21597 non-null  int64 \n",
      "dtypes: int64(16), object(5)\n",
      "memory usage: 3.5+ MB\n"
     ]
    }
   ],
   "source": [
    "print('COLUMNAS')\n",
    "print(df.columns)\n",
    "print('\\n')\n",
    "print('INFO')\n",
    "df.info()"
   ]
  },
  {
   "cell_type": "code",
   "execution_count": 112,
   "metadata": {},
   "outputs": [],
   "source": [
    "df_copia = df.copy()"
   ]
  },
  {
   "cell_type": "code",
   "execution_count": 113,
   "metadata": {},
   "outputs": [],
   "source": [
    "df = df.drop(columns = ['date','lat','long','zipcode'],axis = 1 ) "
   ]
  },
  {
   "cell_type": "code",
   "execution_count": 114,
   "metadata": {},
   "outputs": [
    {
     "name": "stdout",
     "output_type": "stream",
     "text": [
      "           id  bedrooms bathrooms floors  waterfront  view  condition  grade  \\\n",
      "0  7129300520         3         1      1           0     0          3      7   \n",
      "1  6414100192         3      2,25      2           0     0          3      7   \n",
      "2  5631500400         2         1      1           0     0          3      6   \n",
      "3  2487200875         4         3      1           0     0          5      7   \n",
      "4  1954400510         3         2      1           0     0          3      8   \n",
      "\n",
      "   yr_built  yr_renovated  sqft_living15  sqft_lot15   price  \n",
      "0      1955             0           1340        5650  221900  \n",
      "1      1951          1991           1690        7639  538000  \n",
      "2      1933             0           2720        8062  180000  \n",
      "3      1965             0           1360        5000  604000  \n",
      "4      1987             0           1800        7503  510000  \n",
      "Index(['id', 'bedrooms', 'bathrooms', 'floors', 'waterfront', 'view',\n",
      "       'condition', 'grade', 'yr_built', 'yr_renovated', 'sqft_living15',\n",
      "       'sqft_lot15', 'price'],\n",
      "      dtype='object')\n"
     ]
    }
   ],
   "source": [
    "df = df.drop(columns = ['sqft_above','sqft_basement','sqft_living','sqft_lot'], axis = 1)\n",
    "print(df.head())\n",
    "print(df.columns)"
   ]
  },
  {
   "cell_type": "code",
   "execution_count": 115,
   "metadata": {},
   "outputs": [
    {
     "name": "stdout",
     "output_type": "stream",
     "text": [
      "0        1955\n",
      "1        1991\n",
      "2        1933\n",
      "3        1965\n",
      "4        1987\n",
      "         ... \n",
      "21592    2009\n",
      "21593    2014\n",
      "21594    2009\n",
      "21595    2004\n",
      "21596    2008\n",
      "Name: yr_built, Length: 21597, dtype: int64\n"
     ]
    }
   ],
   "source": [
    "for i in range(len(df['yr_renovated'])):\n",
    "    if df['yr_renovated'][i] != 0:\n",
    "        df['yr_built'][i] = df['yr_renovated'][i]\n",
    "df = df.drop(columns=['yr_renovated'],axis= 1)\n",
    "print(df['yr_built'])"
   ]
  },
  {
   "cell_type": "code",
   "execution_count": 116,
   "metadata": {},
   "outputs": [],
   "source": [
    "df.to_csv('csv_limpio.csv')"
   ]
  },
  {
   "cell_type": "code",
   "execution_count": null,
   "metadata": {},
   "outputs": [
    {
     "name": "stdout",
     "output_type": "stream",
     "text": [
      "                     id  bedrooms  waterfront      view  condition     grade  \\\n",
      "id             1.000000  0.001150   -0.002727  0.011536  -0.023803  0.008188   \n",
      "bedrooms       0.001150  1.000000   -0.006834  0.080008   0.026496  0.356563   \n",
      "waterfront    -0.002727 -0.006834    1.000000  0.401971   0.016611  0.082888   \n",
      "view           0.011536  0.080008    0.401971  1.000000   0.045999  0.251728   \n",
      "condition     -0.023803  0.026496    0.016611  0.045999   1.000000 -0.146896   \n",
      "grade          0.008188  0.356563    0.082888  0.251728  -0.146896  1.000000   \n",
      "yr_built       0.017710  0.166855   -0.000526 -0.018442  -0.396614  0.461655   \n",
      "sqft_living15 -0.002701  0.393406    0.086507  0.280681  -0.093072  0.713867   \n",
      "sqft_lot15    -0.138557  0.030690    0.030781  0.072904  -0.003126  0.120981   \n",
      "price         -0.016772  0.308787    0.266398  0.397370   0.036056  0.667951   \n",
      "\n",
      "               yr_built  sqft_living15  sqft_lot15     price  \n",
      "id             0.017710      -0.002701   -0.138557 -0.016772  \n",
      "bedrooms       0.166855       0.393406    0.030690  0.308787  \n",
      "waterfront    -0.000526       0.086507    0.030781  0.266398  \n",
      "view          -0.018442       0.280681    0.072904  0.397370  \n",
      "condition     -0.396614      -0.093072   -0.003126  0.036056  \n",
      "grade          0.461655       0.713867    0.120981  0.667951  \n",
      "yr_built       1.000000       0.324714    0.070062  0.105703  \n",
      "sqft_living15  0.324714       1.000000    0.183515  0.585241  \n",
      "sqft_lot15     0.070062       0.183515    1.000000  0.082845  \n",
      "price          0.105703       0.585241    0.082845  1.000000  \n"
     ]
    }
   ],
   "source": [
    "print(df.corr())"
   ]
  },
  {
   "cell_type": "code",
   "execution_count": null,
   "metadata": {},
   "outputs": [
    {
     "data": {
      "image/png": "[encoded data removed]",
      "text/plain": [
       "<Figure size 432x288 with 1 Axes>"
      ]
     },
     "metadata": {
      "needs_background": "light"
     },
     "output_type": "display_data"
    },
    {
     "data": {
      "image/png": "[encoded data removed]",
      "text/plain": [
       "<Figure size 432x288 with 1 Axes>"
      ]
     },
     "metadata": {
      "needs_background": "light"
     },
     "output_type": "display_data"
    }
   ],
   "source": [
    "x2 = df['price']\n",
    "y6 = df['grade']\n",
    "y7 = df['sqft_living15']\n",
    "\n",
    "x2_const = sm.add_constant(x2)\n",
    "\n",
    "def regresion(y,x,xconst):\n",
    "    modelo = sm.OLS(y,xconst).fit()\n",
    "    pred = modelo.predict(xconst)\n",
    "    try:\n",
    "        const = modelo.params[0]\n",
    "        coef = modelo.params[1]\n",
    "        x_1 = np.linspace(x.min(),x.max(),50)\n",
    "        y_1 = coef*x_1 + const\n",
    "    except:\n",
    "        pass\n",
    "    plt.plot(x_1,y_1, label = f'{x.name} vs {y.name} = {coef}*{x.name} + {const}')\n",
    "    plt.scatter(x,y,marker = 'x', c = 'g', label = f'{x.name} vs {y.name}')\n",
    "    plt.title('regresion lineal')\n",
    "    plt.xlabel(f'{x.name}')\n",
    "    plt.ylabel(f'{y.name}')\n",
    "    plt.show()\n",
    "regresion(y6, x2, x2_const)\n",
    "regresion(y7, x2, x2_const)"
   ]
  },
  {
   "cell_type": "code",
   "execution_count": null,
   "metadata": {},
   "outputs": [],
   "source": [
    "y = df['price']\n",
    "x = df.drop(['price','id', 'sqft_lot15', 'floors', 'waterfront', 'condition', 'yr_built', 'grade'], axis = 1)\n",
    "\n",
    "x_train, x_test, y_train, y_test = train_test_split(x, y, test_size = 0.2)\n",
    "\n",
    "logreg = LogisticRegression(max_iter= 100)\n",
    "logreg.fit(x_train,y_train)\n",
    "scoretrain = logreg.score(x_train, y_train)\n",
    "scoretest = logreg.score(x_test, y_test)\n",
    "\n",
    "dicc = {'Train_score: ': scoretrain,\n",
    "       'Test_score: ': scoretest}\n",
    "print(dicc)\n",
    "accuracy_score_train = accuracy_score(y_train, logreg.predict(x_train))\n",
    "print('ACCURACY SCORE TRAIN')\n",
    "print(accuracy_score_train)\n",
    "\n",
    "accuracy_score_test = accuracy_score(y_test, logreg.predict(x_test))\n",
    "print('ACCURACY SCORE TEST')\n",
    "print(accuracy_score_test)"
   ]
  }
 ],
 "metadata": {
  "kernelspec": {
   "display_name": "Python 3.10.0 64-bit",
   "language": "python",
   "name": "python3"
  },
  "language_info": {
   "codemirror_mode": {
    "name": "ipython",
    "version": 3
   },
   "file_extension": ".py",
   "mimetype": "text/x-python",
   "name": "python",
   "nbconvert_exporter": "python",
   "pygments_lexer": "ipython3",
   "version": "3.10.0"
  },
  "orig_nbformat": 4,
  "vscode": {
   "interpreter": {
    "hash": "aee8b7b246df8f9039afb4144a1f6fd8d2ca17a180786b69acc140d282b71a49"
   }
  }
 },
 "nbformat": 4,
 "nbformat_minor": 2
}
